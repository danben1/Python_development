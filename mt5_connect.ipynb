{
 "cells": [
  {
   "cell_type": "markdown",
   "metadata": {},
   "source": [
    "**MT5 Connection**\n",
    "Attempt to make a connection to MT5 trading account and set up pathway for automating trade orders\n",
    "- Had to install older version of python because MetaTrader5 module does not work on newer version \n"
   ]
  },
  {
   "cell_type": "code",
   "execution_count": 33,
   "metadata": {},
   "outputs": [
    {
     "name": "stdout",
     "output_type": "stream",
     "text": [
      "Total history orders= 181\n",
      "AccountInfo(login=30158586, trade_mode=2, leverage=30, limit_orders=500, margin_so_mode=0, trade_allowed=True, trade_expert=True, margin_mode=2, currency_digits=2, fifo_close=False, balance=0.0, credit=0.0, profit=0.0, equity=0.0, margin=0.0, margin_free=0.0, margin_level=0.0, margin_so_call=100.0, margin_so_so=50.0, margin_initial=0.0, margin_maintenance=0.0, assets=0.0, liabilities=0.0, commission_blocked=0.0, name='daniel James bennett', server='AdmiralMarkets-Live', currency='GBP', company='Admiral Markets Group AS')\n"
     ]
    },
    {
     "data": {
      "text/plain": [
       "True"
      ]
     },
     "execution_count": 33,
     "metadata": {},
     "output_type": "execute_result"
    }
   ],
   "source": [
    "import MetaTrader5 as mt5\n",
    "from datetime import datetime\n",
    "\n",
    "mt5.initialize(\n",
    "    path=\"C:\\\\Program Files\\\\Admiral Markets MT5\\\\terminal64.exe\",\n",
    "    login=30158586,\n",
    "    server=\"AdmiralMarkets-Live\",\n",
    ")\n",
    "# get the number of orders in history\n",
    "from_date=datetime(2020,1,1)\n",
    "to_date=datetime.now()\n",
    "history_orders=mt5.history_orders_total(from_date, datetime.now())\n",
    "if history_orders>0:\n",
    "    print(\"Total history orders=\",history_orders)\n",
    "else:\n",
    "    print(\"Orders not found in history\")\n",
    "print(mt5.account_info())\n",
    "mt5.shutdown()\n",
    "\n",
    "# connect to MetaTrader 5\n",
    "# if not mt5.initialize(\n",
    "# \"C:\\Program Files\\Admiral Markets MT5\\terminal64.exe\",\n",
    "# ):\n",
    "#     print(\"initialize() failed\")\n",
    "#     mt5.shutdown()\n",
    "# else:\n",
    "#     print(\"Connection succesful\")\n",
    " \n",
    "# request connection status and parameters\n",
    "# print(mt5.terminal_info())\n",
    "# # get data on MetaTrader 5 version\n",
    "# print(mt5.version())"
   ]
  }
 ],
 "metadata": {
  "kernelspec": {
   "display_name": "mt5_test",
   "language": "python",
   "name": "python3"
  },
  "language_info": {
   "codemirror_mode": {
    "name": "ipython",
    "version": 3
   },
   "file_extension": ".py",
   "mimetype": "text/x-python",
   "name": "python",
   "nbconvert_exporter": "python",
   "pygments_lexer": "ipython3",
   "version": "3.10.13"
  }
 },
 "nbformat": 4,
 "nbformat_minor": 2
}
