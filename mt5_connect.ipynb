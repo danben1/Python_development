{
 "cells": [
  {
   "cell_type": "markdown",
   "metadata": {},
   "source": [
    "**MT5 Connection**\n",
    "Attempt to make a connection to MT5 trading account and set up pathway for automating trade orders"
   ]
  }
 ],
 "metadata": {
  "language_info": {
   "name": "python"
  }
 },
 "nbformat": 4,
 "nbformat_minor": 2
}
