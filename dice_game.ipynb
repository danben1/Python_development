{
 "cells": [
  {
   "cell_type": "markdown",
   "metadata": {},
   "source": [
    "**Dice Game**  \n",
    "Creating a basic dice rolling game using python\n"
   ]
  },
  {
   "cell_type": "code",
   "execution_count": 7,
   "metadata": {},
   "outputs": [
    {
     "name": "stdout",
     "output_type": "stream",
     "text": [
      "Sum of dice is 7\n"
     ]
    }
   ],
   "source": [
    "#import numpy and pandas packages\n",
    "import numpy as np\n",
    "import pandas as pd\n",
    "\n",
    "#Create a dataframe called dice and assign it values of 1-6 to simulate faces on a dice\n",
    "dice = pd.DataFrame([1,2,3,4,5,6])\n",
    "\n",
    "#Create a variable called \"sum_of_dice\" and assign it the sum of the values in the dice dataframe\n",
    "#use sample method to sample 2 values from the dice dataframe\n",
    "#set replace to true so that the selected values are replaced in the dataframe allowing for the same value to be selected twice\n",
    "#sum the two samples collected\n",
    "#use loc method to select the value of the sum of the two samples which will be at the 0 index of the new dataframe\n",
    "sum_of_dice = dice.sample(2, replace = True).sum().loc[0]\n",
    "\n",
    "#print out answer\n",
    "print('Sum of dice is', sum_of_dice)"
   ]
  },
  {
   "cell_type": "code",
   "execution_count": 8,
   "metadata": {},
   "outputs": [
    {
     "name": "stdout",
     "output_type": "stream",
     "text": [
      "[9, 8, 5, 7, 6, 7, 7, 9, 5, 11]\n"
     ]
    }
   ],
   "source": [
    "#run the game 50 times and print the first 10 results\n",
    "\n",
    "#set number of times to roll dice\n",
    "rolls = 50 \n",
    "\n",
    "#run game mutiple time using for loop\n",
    "result = [dice.sample(2, replace = True).sum().loc[0] for i in range(rolls)]\n",
    "\n",
    "print(result[:10])"
   ]
  }
 ],
 "metadata": {
  "kernelspec": {
   "display_name": "test",
   "language": "python",
   "name": "python3"
  },
  "language_info": {
   "codemirror_mode": {
    "name": "ipython",
    "version": 3
   },
   "file_extension": ".py",
   "mimetype": "text/x-python",
   "name": "python",
   "nbconvert_exporter": "python",
   "pygments_lexer": "ipython3",
   "version": "3.11.5"
  }
 },
 "nbformat": 4,
 "nbformat_minor": 2
}
